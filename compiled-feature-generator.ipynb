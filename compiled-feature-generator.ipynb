{
 "cells": [
  {
   "cell_type": "code",
   "execution_count": 5,
   "metadata": {},
   "outputs": [],
   "source": [
    "import nltk\n",
    "import pranav\n",
    "import ahish\n",
    "import discourse_connector\n",
    "import SimToSumm\n",
    "import SimToTitle\n",
    "import csv\n",
    "import textprocessing\n"
   ]
  },
  {
   "cell_type": "code",
   "execution_count": 6,
   "metadata": {},
   "outputs": [],
   "source": [
    "# textDict = {'title':'Hello', 'text': [\"How are you.\", \"I am Ahish 9009\", \"Why are you the best?\"]}\n",
    "textDict = textprocessing.getTextDict()"
   ]
  },
  {
   "cell_type": "code",
   "execution_count": 7,
   "metadata": {},
   "outputs": [],
   "source": [
    "inputTextArray = textDict['text']\n",
    "inputTextTitle = textDict['title']"
   ]
  },
  {
   "cell_type": "code",
   "execution_count": 8,
   "metadata": {},
   "outputs": [],
   "source": [
    "nFeatures = 12\n",
    "\n",
    "data = [ [] for i in range(len(inputTextArray))]\n",
    "\n",
    "similarityFeatures = ahish.getCosSims(inputTextArray)\n",
    "simToSum = SimToSumm.getSimtoSum(inputTextArray, ' '.join(inputTextArray))\n",
    "simToTitle = SimToTitle.SimToTitle(inputTextTitle, inputTextArray)\n",
    "\n",
    "maxLen = 0\n",
    "\n",
    "for i in inputTextArray:\n",
    "    curr = len(i.split())\n",
    "    if curr > maxLen:\n",
    "        maxLen = curr\n",
    "\n",
    "for i in range(len(inputTextArray)):\n",
    "    \n",
    "    data[i] += [len(inputTextArray[i].split())/maxLen, i/len(inputTextArray)]\n",
    "    data[i] += [similarityFeatures[i]]\n",
    "    data[i] += [simToSum[i]]\n",
    "    data[i] += [simToTitle[i]]\n",
    "    curr = inputTextArray[i]\n",
    "    data[i]+= [pranav.keyword_present(curr) , pranav.has_number(curr), pranav.number_of_superlatives(curr), pranav.abbrevs_per_length(curr), pranav.nouns_per_length(curr), pranav.pronouns_per_length(curr), discourse_connector.discourse_connector(curr)]\n",
    "\n"
   ]
  },
  {
   "cell_type": "code",
   "execution_count": 9,
   "metadata": {},
   "outputs": [],
   "source": [
    "with open(\"features.csv\", \"w\", newline=\"\") as f:\n",
    "    writer = csv.writer(f)\n",
    "    writer.writerows(data)"
   ]
  },
  {
   "cell_type": "code",
   "execution_count": null,
   "metadata": {},
   "outputs": [],
   "source": []
  }
 ],
 "metadata": {
  "kernelspec": {
   "display_name": "Python 3",
   "language": "python",
   "name": "python3"
  },
  "language_info": {
   "codemirror_mode": {
    "name": "ipython",
    "version": 3
   },
   "file_extension": ".py",
   "mimetype": "text/x-python",
   "name": "python",
   "nbconvert_exporter": "python",
   "pygments_lexer": "ipython3",
   "version": "3.6.8"
  }
 },
 "nbformat": 4,
 "nbformat_minor": 2
}
