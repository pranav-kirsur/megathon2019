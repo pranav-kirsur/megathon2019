{
 "cells": [
  {
   "cell_type": "code",
   "execution_count": 1,
   "metadata": {},
   "outputs": [
    {
     "name": "stderr",
     "output_type": "stream",
     "text": [
      "[nltk_data] Downloading package punkt to /usr/local/share/nltk_data...\n",
      "[nltk_data]   Package punkt is already up-to-date!\n",
      "[nltk_data] Downloading package averaged_perceptron_tagger to\n",
      "[nltk_data]     /usr/local/share/nltk_data...\n",
      "[nltk_data]   Package averaged_perceptron_tagger is already up-to-\n",
      "[nltk_data]       date!\n",
      "[nltk_data] Downloading package punkt to /usr/local/share/nltk_data...\n",
      "[nltk_data]   Package punkt is already up-to-date!\n"
     ]
    }
   ],
   "source": [
    "import nltk\n",
    "import pranav\n",
    "import ahish\n",
    "import discourse_connector\n"
   ]
  },
  {
   "cell_type": "code",
   "execution_count": 2,
   "metadata": {},
   "outputs": [],
   "source": [
    "textDict = {'title':'Hello', 'text': [\"How are you.\", \"I am Ahish 9009\", \"Why are you the best?\"]}"
   ]
  },
  {
   "cell_type": "code",
   "execution_count": 3,
   "metadata": {},
   "outputs": [],
   "source": [
    "inputTextArray = textDict['text']\n",
    "inputTextTitle = textDict['title']"
   ]
  },
  {
   "cell_type": "code",
   "execution_count": 4,
   "metadata": {},
   "outputs": [
    {
     "data": {
      "text/plain": [
       "[[0.0, 0, 0, 0.0, 0.0, 0.0, 0.3333333333333333, 0.0],\n",
       " [0.0, 0, 1, 0.0, 0.0, 0.0, 0.25, 0.0],\n",
       " [0.0, 0, 0, 0.2, 0.0, 0.0, 0.2, 0.0]]"
      ]
     },
     "execution_count": 4,
     "metadata": {},
     "output_type": "execute_result"
    }
   ],
   "source": [
    "nFeatures = 12\n",
    "\n",
    "data = [ [] for i in range(len(inputTextArray))]\n",
    "\n",
    "similarityFeatures = ahish.getCosSims(inputTextArray)\n",
    "\n",
    "for i in range(len(inputTextArray)):\n",
    "    \n",
    "    data[i] += [similarityFeatures[i]]\n",
    "    curr = inputTextArray[i]\n",
    "    data[i]+= [pranav.keyword_present(curr) , pranav.has_number(curr), pranav.number_of_superlatives(curr), pranav.abbrevs_per_length(curr), pranav.nouns_per_length(curr), pranav.pronouns_per_length(curr), discourse_connector.discourse_connector(curr)]\n",
    "\n",
    "data"
   ]
  },
  {
   "cell_type": "code",
   "execution_count": null,
   "metadata": {},
   "outputs": [],
   "source": []
  }
 ],
 "metadata": {
  "kernelspec": {
   "display_name": "Python 3",
   "language": "python",
   "name": "python3"
  },
  "language_info": {
   "codemirror_mode": {
    "name": "ipython",
    "version": 3
   },
   "file_extension": ".py",
   "mimetype": "text/x-python",
   "name": "python",
   "nbconvert_exporter": "python",
   "pygments_lexer": "ipython3",
   "version": "3.7.4"
  }
 },
 "nbformat": 4,
 "nbformat_minor": 2
}
