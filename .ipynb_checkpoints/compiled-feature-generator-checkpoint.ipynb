{
 "cells": [
  {
   "cell_type": "code",
   "execution_count": 14,
   "metadata": {},
   "outputs": [],
   "source": [
    "import nltk\n",
    "import pranav\n",
    "import ahish\n",
    "import discourse_connector\n",
    "import SimToSumm\n",
    "import SimToTitle\n"
   ]
  },
  {
   "cell_type": "code",
   "execution_count": 15,
   "metadata": {},
   "outputs": [],
   "source": [
    "textDict = {'title':'Hello', 'text': [\"How are you.\", \"I am Ahish 9009\", \"Why are you the best?\"]}"
   ]
  },
  {
   "cell_type": "code",
   "execution_count": 16,
   "metadata": {},
   "outputs": [],
   "source": [
    "inputTextArray = textDict['text']\n",
    "inputTextTitle = textDict['title']"
   ]
  },
  {
   "cell_type": "code",
   "execution_count": 17,
   "metadata": {},
   "outputs": [
    {
     "data": {
      "text/plain": [
       "[[0.6, 0.0, 0.0, 0.0, 0, 0, 0.0, 0.0, 0.0, 0.3333333333333333, 0.0],\n",
       " [0.8, 0.3333333333333333, 0.0, 0.0, 0, 1, 0.0, 0.0, 0.0, 0.25, 0.0],\n",
       " [1.0, 0.6666666666666666, 0.0, 0.0, 0, 0, 0.2, 0.0, 0.0, 0.2, 0.0]]"
      ]
     },
     "execution_count": 17,
     "metadata": {},
     "output_type": "execute_result"
    }
   ],
   "source": [
    "nFeatures = 12\n",
    "\n",
    "data = [ [] for i in range(len(inputTextArray))]\n",
    "\n",
    "similarityFeatures = ahish.getCosSims(inputTextArray)\n",
    "simToSum = SimToSumm.getSimtoSum(inputTextArray, ' '.join(inputTextArray))\n",
    "simToTitle = SimToTitle.SimToTitle(inputTextTitle, inputTextArray)\n",
    "\n",
    "maxLen = 0\n",
    "\n",
    "for i in inputTextArray:\n",
    "    curr = len(i.split())\n",
    "    if curr > maxLen:\n",
    "        maxLen = curr\n",
    "\n",
    "for i in range(len(inputTextArray)):\n",
    "    \n",
    "    data[i] += [len(inputTextArray[i].split())/maxLen, i/len(inputTextArray)]\n",
    "    data[i] += [similarityFeatures[i]]\n",
    "    data[i] += [simToSum[i]]\n",
    "    curr = inputTextArray[i]\n",
    "    data[i]+= [pranav.keyword_present(curr) , pranav.has_number(curr), pranav.number_of_superlatives(curr), pranav.abbrevs_per_length(curr), pranav.nouns_per_length(curr), pranav.pronouns_per_length(curr), discourse_connector.discourse_connector(curr)]\n",
    "\n",
    "data"
   ]
  },
  {
   "cell_type": "code",
   "execution_count": null,
   "metadata": {},
   "outputs": [],
   "source": []
  },
  {
   "cell_type": "code",
   "execution_count": null,
   "metadata": {},
   "outputs": [],
   "source": []
  }
 ],
 "metadata": {
  "kernelspec": {
   "display_name": "Python 3",
   "language": "python",
   "name": "python3"
  },
  "language_info": {
   "codemirror_mode": {
    "name": "ipython",
    "version": 3
   },
   "file_extension": ".py",
   "mimetype": "text/x-python",
   "name": "python",
   "nbconvert_exporter": "python",
   "pygments_lexer": "ipython3",
   "version": "3.7.4"
  }
 },
 "nbformat": 4,
 "nbformat_minor": 2
}
