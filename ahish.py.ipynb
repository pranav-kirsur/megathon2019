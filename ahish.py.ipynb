{
 "cells": [
  {
   "cell_type": "code",
   "execution_count": 37,
   "metadata": {},
   "outputs": [
    {
     "name": "stdout",
     "output_type": "stream",
     "text": [
      "showing info https://raw.githubusercontent.com/nltk/nltk_data/gh-pages/index.xml\n"
     ]
    },
    {
     "name": "stderr",
     "output_type": "stream",
     "text": [
      "[nltk_data] Downloading package punkt to /usr/local/share/nltk_data...\n",
      "[nltk_data]   Package punkt is already up-to-date!\n"
     ]
    },
    {
     "data": {
      "text/plain": [
       "True"
      ]
     },
     "execution_count": 37,
     "metadata": {},
     "output_type": "execute_result"
    }
   ],
   "source": [
    "import tensorflow\n",
    "import numpy\n",
    "import nltk \n",
    "# nltk.download()\n",
    "import string\n",
    "from sklearn.feature_extraction.text import TfidfVectorizer\n",
    "\n",
    "import warnings\n",
    "warnings.filterwarnings(\"ignore\")\n",
    "\n",
    "nltk.download('punkt')\n",
    "\n"
   ]
  },
  {
   "cell_type": "code",
   "execution_count": 38,
   "metadata": {},
   "outputs": [],
   "source": [
    "def stem_tokens(tokens):\n",
    "    \n",
    "    stemmer = nltk.stem.porter.PorterStemmer() #loads the stemmer\n",
    "    return [stemmer.stem(item) for item in tokens]"
   ]
  },
  {
   "cell_type": "code",
   "execution_count": 39,
   "metadata": {},
   "outputs": [],
   "source": [
    "def normalize(text):\n",
    "    \n",
    "    remove_punctuation_map = dict((ord(char), None) for char in string.punctuation) #generates dict of punctuations to remove\n",
    "    return stem_tokens(nltk.word_tokenize(text.lower().translate(remove_punctuation_map)))"
   ]
  },
  {
   "cell_type": "code",
   "execution_count": 40,
   "metadata": {},
   "outputs": [],
   "source": [
    "def cosine_sim(text1, text2):\n",
    "    vectorizer = TfidfVectorizer(tokenizer=normalize, stop_words='english')\n",
    "    tfidf = vectorizer.fit_transform([text1, text2])\n",
    "    return ((tfidf * tfidf.T).A)[0,1]"
   ]
  },
  {
   "cell_type": "code",
   "execution_count": 41,
   "metadata": {},
   "outputs": [],
   "source": [
    "def simFunc(s1, s2):\n",
    "    \n",
    "    print(cosine_sim(s1, s2))\n",
    "    "
   ]
  },
  {
   "cell_type": "code",
   "execution_count": 43,
   "metadata": {},
   "outputs": [],
   "source": [
    "text = '''Let us compare their structure and functions. Do plants and animals have the same structure? Do they both perform similar functions?\n",
    "There are noticeable differences between the two. Plants are stationary or fixed – they don’t move. Since they have to be upright, they have a large quantity of supportive tissue. The supportive tissue generally has dead cells.\n",
    "Animals on the other hand move around in search of food, mates and shelter. They consume more energy as compared to plants. Most of the tissues they contain are living.\n",
    "Another difference between animals and plants is in the pattern of growth. The growth in plants is limited to certain regions, while this is not so in animals. There are some tissues in plants that divide throughout their life. These tissues are localised in certain regions. Based on the dividing capacity of the tissues, various plant tissues can be classified as growing or meristematic tissue and permanent tissue. Cell growth in animals is more uniform. So, there is no such demarcation of dividing and non-dividing regions in animals.'''"
   ]
  },
  {
   "cell_type": "code",
   "execution_count": 47,
   "metadata": {},
   "outputs": [
    {
     "name": "stdout",
     "output_type": "stream",
     "text": [
      "['Let us compare their structure and functions', ' Do plants and animals have the same structure? Do they both perform similar functions?\\nThere are noticeable differences between the two', ' Plants are stationary or fixed – they don’t move', ' Since they have to be upright, they have a large quantity of supportive tissue', ' The supportive tissue generally has dead cells', '\\nAnimals on the other hand move around in search of food, mates and shelter', ' They consume more energy as compared to plants', ' Most of the tissues they contain are living', '\\nAnother difference between animals and plants is in the pattern of growth', ' The growth in plants is limited to certain regions, while this is not so in animals', ' There are some tissues in plants that divide throughout their life', ' These tissues are localised in certain regions', ' Based on the dividing capacity of the tissues, various plant tissues can be classified as growing or meristematic tissue and permanent tissue', ' Cell growth in animals is more uniform', ' So, there is no such demarcation of dividing and non-dividing regions in animals', '']\n"
     ]
    },
    {
     "data": {
      "text/plain": [
       "[0.022791981614951023,\n",
       " 0.07672748586865265,\n",
       " 0.030431609779086623,\n",
       " 0.04858671715033362,\n",
       " 0.05578768861145432,\n",
       " 0.029506916197953367,\n",
       " 0.048078755394735856,\n",
       " 0.05771420597890375,\n",
       " 0.08729198332056248,\n",
       " 0.09727892249452212,\n",
       " 0.10750109610787384,\n",
       " 0.07327322524753764,\n",
       " 0.10805604911045623,\n",
       " 0.05968306251375314,\n",
       " 0.0579184700862173,\n",
       " 0.0]"
      ]
     },
     "execution_count": 47,
     "metadata": {},
     "output_type": "execute_result"
    }
   ],
   "source": [
    "\n",
    "listofstrings = text.split('.')\n",
    "print(listofstrings)\n",
    "cosineSimilarities = [0 for i in range(len(listofstrings))]\n",
    "\n",
    "for i in range(len(listofstrings)):\n",
    "    \n",
    "    currSentence = listofstrings[i]\n",
    "    for j in range(len(listofstrings)):\n",
    "        \n",
    "        if i == j:\n",
    "            continue\n",
    "        \n",
    "        cosineSimilarities[i] += cosine_sim(currSentence, listofstrings[j])\n",
    "    \n",
    "    if len(listofstrings):\n",
    "        cosineSimilarities[i] /= (len(listofstrings))\n",
    "\n",
    "cosineSimilarities\n",
    "        \n",
    "        "
   ]
  },
  {
   "cell_type": "code",
   "execution_count": null,
   "metadata": {},
   "outputs": [],
   "source": []
  }
 ],
 "metadata": {
  "kernelspec": {
   "display_name": "Python 3",
   "language": "python",
   "name": "python3"
  },
  "language_info": {
   "codemirror_mode": {
    "name": "ipython",
    "version": 3
   },
   "file_extension": ".py",
   "mimetype": "text/x-python",
   "name": "python",
   "nbconvert_exporter": "python",
   "pygments_lexer": "ipython3",
   "version": "3.7.4"
  }
 },
 "nbformat": 4,
 "nbformat_minor": 2
}
